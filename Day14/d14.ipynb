{
 "cells": [
  {
   "cell_type": "code",
   "execution_count": 1,
   "metadata": {},
   "outputs": [],
   "source": [
    "import numpy as np"
   ]
  },
  {
   "cell_type": "code",
   "execution_count": 2,
   "metadata": {},
   "outputs": [],
   "source": [
    "class Robot():\n",
    "    def __init__(self, start_pos, velocity ):\n",
    "        self.pos = np.array(start_pos)\n",
    "        self.velocity = np.array(velocity)\n",
    "\n",
    "    def __repr__(self):\n",
    "        return f'Robot at pos {self.pos} - velocity {self.velocity}'\n",
    "\n",
    "    def get_pos_at_time(self, time, grid_size):\n",
    "        time_pos = self.pos + self.velocity * time\n",
    "        final_pos = time_pos % grid_size\n",
    "        return final_pos\n"
   ]
  },
  {
   "cell_type": "code",
   "execution_count": 3,
   "metadata": {},
   "outputs": [],
   "source": [
    "robots: list[Robot] = []\n",
    "# with open(\"simple_test.txt\") as fh:\n",
    "# with open(\"4test_input.txt\") as fh:\n",
    "# with open(\"etest.txt\") as fh:\n",
    "# with open(\"test_input.txt\") as fh:\n",
    "with open(\"input.txt\") as fh:\n",
    "    for line in fh.readlines():\n",
    "        pos, velo = line.strip().split()\n",
    "        pos = [int(x) for x in pos[2:].split(',')]\n",
    "        velo = [int(x) for x in velo[2:].split(',')]\n",
    "        robots.append(Robot(pos, velo))"
   ]
  },
  {
   "cell_type": "code",
   "execution_count": 4,
   "metadata": {},
   "outputs": [],
   "source": [
    "grid_size = (101, 103)"
   ]
  },
  {
   "cell_type": "code",
   "execution_count": 5,
   "metadata": {},
   "outputs": [],
   "source": [
    "new_poss = [\n",
    "    r.get_pos_at_time(100, grid_size=grid_size) for r in robots\n",
    "]"
   ]
  },
  {
   "cell_type": "code",
   "execution_count": 6,
   "metadata": {},
   "outputs": [
    {
     "data": {
      "text/plain": [
       "500"
      ]
     },
     "execution_count": 6,
     "metadata": {},
     "output_type": "execute_result"
    }
   ],
   "source": [
    "len(robots)"
   ]
  },
  {
   "cell_type": "code",
   "execution_count": 7,
   "metadata": {},
   "outputs": [
    {
     "name": "stdout",
     "output_type": "stream",
     "text": [
      "224969976.0\n"
     ]
    }
   ],
   "source": [
    "room = np.zeros(grid_size).T\n",
    "\n",
    "for pos in new_poss:\n",
    "    x, y = pos\n",
    "    room[y][x] += 1\n",
    "\n",
    "quadrants = []\n",
    "\n",
    "quadrants.append(room[:room.shape[0] // 2, :room.shape[1] // 2])\n",
    "quadrants.append(room[:room.shape[0] // 2, (room.shape[1] // 2) + 1:])\n",
    "quadrants.append(room[(room.shape[0] // 2)+1:, :room.shape[1] // 2])\n",
    "quadrants.append(room[(room.shape[0] // 2)+1:, (room.shape[1] // 2)+1:])\n",
    "\n",
    "tot = 1\n",
    "for q in quadrants:\n",
    "    tot *= q.sum()\n",
    "\n",
    "print(tot)\n"
   ]
  },
  {
   "cell_type": "code",
   "execution_count": 8,
   "metadata": {},
   "outputs": [],
   "source": [
    "from PIL import Image\n"
   ]
  },
  {
   "cell_type": "code",
   "execution_count": 9,
   "metadata": {},
   "outputs": [],
   "source": [
    "import ipywidgets as widgets"
   ]
  },
  {
   "cell_type": "code",
   "execution_count": 10,
   "metadata": {},
   "outputs": [],
   "source": [
    "max_size_per_time = {}\n",
    "for i in range(103 * 101):\n",
    "    new_poss = [\n",
    "        r.get_pos_at_time(i, grid_size=grid_size) for r in robots\n",
    "    ]\n",
    "\n",
    "    room = np.zeros(grid_size).T\n",
    "\n",
    "    for pos in new_poss:\n",
    "        x, y = pos\n",
    "        room[y][x] += 1\n",
    "\n",
    "    quadrants = []\n",
    "\n",
    "    quadrants.append(room[:room.shape[0] // 2, :room.shape[1] // 2])\n",
    "    quadrants.append(room[:room.shape[0] // 2, (room.shape[1] // 2) + 1:])\n",
    "    quadrants.append(room[(room.shape[0] // 2)+1:, :room.shape[1] // 2])\n",
    "    quadrants.append(room[(room.shape[0] // 2)+1:, (room.shape[1] // 2)+1:])\n",
    "\n",
    "    max_size_per_time[i] = max(q.sum() for q in quadrants)"
   ]
  },
  {
   "cell_type": "code",
   "execution_count": 11,
   "metadata": {},
   "outputs": [],
   "source": [
    "sorted_times = sorted(max_size_per_time.items(), key=lambda x: -x[1])"
   ]
  },
  {
   "cell_type": "code",
   "execution_count": 12,
   "metadata": {},
   "outputs": [
    {
     "data": {
      "text/plain": [
       "[(7892, 308.0),\n",
       " (721, 220.0),\n",
       " (1832, 217.0),\n",
       " (6347, 217.0),\n",
       " (1226, 214.0),\n",
       " (1933, 214.0),\n",
       " (9811, 214.0),\n",
       " (115, 213.0),\n",
       " (6377, 213.0),\n",
       " (10055, 212.0),\n",
       " (1300, 211.0),\n",
       " (5266, 211.0),\n",
       " (2842, 210.0),\n",
       " (4862, 210.0),\n",
       " (9025, 210.0),\n",
       " (9205, 210.0),\n",
       " (10261, 210.0),\n",
       " (888, 209.0),\n",
       " (10316, 209.0),\n",
       " (5832, 208.0)]"
      ]
     },
     "execution_count": 12,
     "metadata": {},
     "output_type": "execute_result"
    }
   ],
   "source": [
    "list(sorted_times)[:20]"
   ]
  },
  {
   "cell_type": "code",
   "execution_count": null,
   "metadata": {},
   "outputs": [
    {
     "data": {
      "application/vnd.jupyter.widget-view+json": {
       "model_id": "d7787bfd1b644b5e9970591fb805bae2",
       "version_major": 2,
       "version_minor": 0
      },
      "text/plain": [
       "interactive(children=(IntText(value=0, description='Time'), Output()), _dom_classes=('widget-interact',))"
      ]
     },
     "metadata": {},
     "output_type": "display_data"
    },
    {
     "data": {
      "text/plain": [
       "<function __main__.draw_robots(i)>"
      ]
     },
     "execution_count": 13,
     "metadata": {},
     "output_type": "execute_result"
    }
   ],
   "source": [
    "\n",
    "def draw_robots(i):\n",
    "    new_poss = [\n",
    "        r.get_pos_at_time(i, grid_size=grid_size) for r in robots\n",
    "    ]\n",
    "    room = np.zeros(grid_size).T\n",
    "\n",
    "    for pos in new_poss:\n",
    "        x, y = pos\n",
    "        room[y][x] += 1\n",
    "    \n",
    "    room = (room / room.max()) * 255\n",
    "\n",
    "    img = Image.fromarray(room)\n",
    "    img = img.convert('RGB')\n",
    "    display(img)\n",
    "\n",
    "widgets.interact(draw_robots, i=widgets.IntText(value=0, description='Time'))\n"
   ]
  },
  {
   "cell_type": "code",
   "execution_count": null,
   "metadata": {},
   "outputs": [],
   "source": []
  }
 ],
 "metadata": {
  "kernelspec": {
   "display_name": "Python 3",
   "language": "python",
   "name": "python3"
  },
  "language_info": {
   "codemirror_mode": {
    "name": "ipython",
    "version": 3
   },
   "file_extension": ".py",
   "mimetype": "text/x-python",
   "name": "python",
   "nbconvert_exporter": "python",
   "pygments_lexer": "ipython3",
   "version": "3.11.7"
  }
 },
 "nbformat": 4,
 "nbformat_minor": 2
}
