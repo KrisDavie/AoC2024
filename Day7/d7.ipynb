{
 "cells": [
  {
   "cell_type": "code",
   "execution_count": 1,
   "metadata": {},
   "outputs": [],
   "source": [
    "with open(\"input.txt\") as fh:\n",
    "    data = [x.strip() for x in fh.readlines()]"
   ]
  },
  {
   "cell_type": "code",
   "execution_count": 2,
   "metadata": {},
   "outputs": [],
   "source": [
    "import operator as op\n"
   ]
  },
  {
   "cell_type": "code",
   "execution_count": 3,
   "metadata": {},
   "outputs": [
    {
     "name": "stdout",
     "output_type": "stream",
     "text": [
      "303876485655\n"
     ]
    }
   ],
   "source": [
    "from collections import deque\n",
    "\n",
    "operators = {\n",
    "    '+': op.add,\n",
    "    '*': op.mul\n",
    "}\n",
    "\n",
    "found_sums = []\n",
    "final_tot = 0\n",
    "\n",
    "for line in data:\n",
    "    line = line.split(\":\")\n",
    "    res = int(line[0])\n",
    "    numbers = line[1].strip().split(' ')\n",
    "\n",
    "    ret = []\n",
    "    for n in numbers:\n",
    "        ret.append(n)\n",
    "        ret.append('+')\n",
    "\n",
    "    pre_eval = deque()\n",
    "    final_eval = set()\n",
    "    \n",
    "    pre_eval.append(ret[:-1])\n",
    "    final_eval.add(tuple(ret[:-1]))\n",
    "\n",
    "    done = set()\n",
    "    while len(pre_eval) > 0:\n",
    "        cur_f = pre_eval.popleft()\n",
    "\n",
    "\n",
    "        for x in range(len(numbers) - 1):\n",
    "            perm_f = cur_f[:]\n",
    "            perm_f[(x*2) + 1] = '*'\n",
    "            if '+' in set(perm_f) and tuple(perm_f[:]) not in done:\n",
    "                pre_eval.append(perm_f[:])\n",
    "                done.add(tuple(perm_f[:]))\n",
    "            final_eval.add(tuple(perm_f[:]))\n",
    "    \n",
    "    sum_found = False\n",
    "    for ev in final_eval:\n",
    "        tot = 0\n",
    "        for n, el in enumerate(ev):\n",
    "            if n == 0:\n",
    "                tot += int(el)\n",
    "                continue\n",
    "            if el in ['+', '*']:\n",
    "                next_op = operators[el]\n",
    "                continue\n",
    "            tot = next_op(tot, int(el))\n",
    "        if tot == res:\n",
    "            sum_found = True\n",
    "            final_tot += res\n",
    "            break\n",
    "\n",
    "    found_sums.append(sum_found)\n",
    "print(final_tot)"
   ]
  },
  {
   "cell_type": "code",
   "execution_count": 4,
   "metadata": {},
   "outputs": [
    {
     "name": "stdout",
     "output_type": "stream",
     "text": [
      "146111650210682\n"
     ]
    }
   ],
   "source": [
    "from collections import deque\n",
    "from itertools import product\n",
    "import re\n",
    "\n",
    "def concat_nums(a, b):\n",
    "    return(int(str(a) + str(b)))\n",
    "\n",
    "operators = {\n",
    "    '+': op.add,\n",
    "    '*': op.mul,\n",
    "    '|': concat_nums\n",
    "}\n",
    "\n",
    "found_sums = []\n",
    "final_tot = 0\n",
    "\n",
    "for line in data:\n",
    "    line = line.split(\":\")\n",
    "    res = int(line[0])\n",
    "    numbers = line[1].strip().split(' ')\n",
    "\n",
    "    all_combs = product('+*|', repeat=len(numbers) - 1)\n",
    "    final_eval = []\n",
    "    for comb in all_combs:\n",
    "        cur_f = []\n",
    "        for n, oper in enumerate(comb):\n",
    "            cur_f.append(numbers[n])\n",
    "            cur_f.append(oper)\n",
    "        cur_f.append(numbers[-1])\n",
    "        final_eval.append(cur_f)\n",
    "\n",
    "    sum_found = False\n",
    "    for ev in final_eval:\n",
    "        tot = 0\n",
    "        for n, el in enumerate(ev):\n",
    "            if n == 0:\n",
    "                tot += int(el)\n",
    "                if tot > res:\n",
    "                    break\n",
    "                continue\n",
    "            if el in ['+', '*', '|']:\n",
    "                next_op = operators[el]\n",
    "                continue\n",
    "            tot = next_op(tot, int(el))\n",
    "        if tot == res:\n",
    "            sum_found = True\n",
    "            final_tot += res\n",
    "            break\n",
    "\n",
    "    found_sums.append(sum_found)\n",
    "print(final_tot)\n",
    "\n"
   ]
  }
 ],
 "metadata": {
  "kernelspec": {
   "display_name": "Python 3",
   "language": "python",
   "name": "python3"
  },
  "language_info": {
   "codemirror_mode": {
    "name": "ipython",
    "version": 3
   },
   "file_extension": ".py",
   "mimetype": "text/x-python",
   "name": "python",
   "nbconvert_exporter": "python",
   "pygments_lexer": "ipython3",
   "version": "3.11.7"
  }
 },
 "nbformat": 4,
 "nbformat_minor": 2
}
