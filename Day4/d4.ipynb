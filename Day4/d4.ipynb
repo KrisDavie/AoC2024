{
 "cells": [
  {
   "cell_type": "code",
   "execution_count": 1,
   "metadata": {},
   "outputs": [],
   "source": [
    "with open(\"input.txt\") as fh:\n",
    "    data = [x.strip() for x in fh.readlines()]"
   ]
  },
  {
   "cell_type": "code",
   "execution_count": 2,
   "metadata": {},
   "outputs": [],
   "source": [
    "words_to_search = ['MAS']"
   ]
  },
  {
   "cell_type": "code",
   "execution_count": 3,
   "metadata": {},
   "outputs": [],
   "source": [
    "def follow_chain(x, y, dir, word, letter_ix, word_dir):\n",
    "    \n",
    "    if x > len(data[y]) - 1 or y > len(data) - 1:\n",
    "        return False\n",
    "    \n",
    "    letter = word[letter_ix]\n",
    "    if dir == 'R':\n",
    "        x = x + 1\n",
    "    elif dir == 'DR':\n",
    "        x = x + 1\n",
    "        y = y + 1\n",
    "    elif dir == 'D':\n",
    "        y = y + 1\n",
    "    elif dir == 'DL':\n",
    "        x = x - 1\n",
    "        y = y + 1\n",
    "    if x < 0 or y < 0:\n",
    "        return False\n",
    "    try:\n",
    "        if data[y][x] != letter:\n",
    "            return False\n",
    "        elif (word_dir == 'F' and letter_ix == len(word) - 1) or (word_dir == 'R' and letter_ix == 0):\n",
    "            return True\n",
    "    except IndexError:\n",
    "        return False\n",
    "    if word_dir == 'F':\n",
    "        letter_ix += 1\n",
    "    elif word_dir == 'R':\n",
    "        letter_ix -= 1\n",
    "    return follow_chain(x, y, dir, word, letter_ix, word_dir)\n",
    "\n",
    "found_words = {\n",
    "    w: [] for w in words_to_search\n",
    "}\n",
    "\n",
    "for word in words_to_search:\n",
    "    for y, row in enumerate(data):\n",
    "        for x, letter in enumerate(row):\n",
    "            if letter != word[0] and letter != word[-1]:\n",
    "                continue\n",
    "            word_dir = 'F' if letter == word[0] else 'R'\n",
    "            letter_ix = 1 if letter == word[0] else len(word) - 2\n",
    "            for search_dir in ['R', 'DR', 'D', 'DL']:\n",
    "                if follow_chain(x, y, search_dir, word, letter_ix, word_dir):\n",
    "                    found_words[word].append(((x, y), word_dir, search_dir))\n",
    "            "
   ]
  },
  {
   "cell_type": "code",
   "execution_count": 4,
   "metadata": {},
   "outputs": [],
   "source": [
    "import numpy as np"
   ]
  },
  {
   "cell_type": "code",
   "execution_count": 5,
   "metadata": {},
   "outputs": [],
   "source": [
    "arr = np.zeros((len(data), len(data[0])))"
   ]
  },
  {
   "cell_type": "code",
   "execution_count": 6,
   "metadata": {},
   "outputs": [
    {
     "name": "stdout",
     "output_type": "stream",
     "text": [
      "1939\n"
     ]
    }
   ],
   "source": [
    "word = 'MAS'\n",
    "\n",
    "arr = np.zeros((len(data), len(data[0])))\n",
    "for loc, word_dir, search_dir in found_words[word]:\n",
    "    x, y = loc\n",
    "    if search_dir == 'R':\n",
    "        continue\n",
    "    elif search_dir == 'DR':\n",
    "        x = x + 1\n",
    "        y = y + 1\n",
    "    elif search_dir == 'D':\n",
    "        continue\n",
    "    elif search_dir == 'DL':\n",
    "        x = x - 1\n",
    "        y = y + 1\n",
    "\n",
    "    arr[y][x] += 1\n",
    "\n",
    "print((arr > 1).sum())"
   ]
  },
  {
   "cell_type": "code",
   "execution_count": 7,
   "metadata": {},
   "outputs": [
    {
     "data": {
      "text/plain": [
       "7395"
      ]
     },
     "execution_count": 7,
     "metadata": {},
     "output_type": "execute_result"
    }
   ],
   "source": [
    "len(found_words[word])"
   ]
  },
  {
   "cell_type": "code",
   "execution_count": null,
   "metadata": {},
   "outputs": [],
   "source": []
  }
 ],
 "metadata": {
  "kernelspec": {
   "display_name": "Python 3",
   "language": "python",
   "name": "python3"
  },
  "language_info": {
   "codemirror_mode": {
    "name": "ipython",
    "version": 3
   },
   "file_extension": ".py",
   "mimetype": "text/x-python",
   "name": "python",
   "nbconvert_exporter": "python",
   "pygments_lexer": "ipython3",
   "version": "3.11.7"
  }
 },
 "nbformat": 4,
 "nbformat_minor": 2
}
