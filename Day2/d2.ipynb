{
 "cells": [
  {
   "cell_type": "code",
   "execution_count": 1,
   "metadata": {},
   "outputs": [],
   "source": [
    "with open('input.txt') as f:\n",
    "    reports = f.readlines()"
   ]
  },
  {
   "cell_type": "code",
   "execution_count": 2,
   "metadata": {},
   "outputs": [],
   "source": [
    "good_reports = 0\n",
    "report_reports = {}\n",
    "for report in reports:\n",
    "    report_order = None\n",
    "    report_bad = False\n",
    "    diffs = []\n",
    "    orders = []\n",
    "    for n, num in enumerate(report.strip().split()):\n",
    "        num = int(num)\n",
    "        if n == 0:\n",
    "            prev_num = num\n",
    "            continue\n",
    "        diff = abs(num - prev_num)\n",
    "        diffs.append(diff)\n",
    "        if prev_num < num:\n",
    "            orders.append('asc')\n",
    "        elif prev_num > num:\n",
    "            orders.append('desc')\n",
    "        else:\n",
    "            orders.append('same')\n",
    "        prev_num = num\n",
    "    report_reports[report] = (diffs, orders)\n",
    "       "
   ]
  },
  {
   "cell_type": "code",
   "execution_count": 3,
   "metadata": {},
   "outputs": [],
   "source": [
    "good_reports = 0\n",
    "reports_to_damp = []\n",
    "for report in reports:\n",
    "    report_order = None\n",
    "    report_bad = False\n",
    "    for n, num in enumerate(report.strip().split()):\n",
    "        num = int(num)\n",
    "        if n == 0:\n",
    "            prev_num = num\n",
    "            continue\n",
    "        diff = abs(num - prev_num)\n",
    "        if diff == 0 or diff > 3:\n",
    "            report_bad = True\n",
    "        if prev_num == num:\n",
    "            report_bad = True\n",
    "        if not report_order:\n",
    "            if num > prev_num:\n",
    "                report_order = 'asc'\n",
    "            elif num < prev_num:\n",
    "                report_order = 'desc'\n",
    "        else:\n",
    "            if report_order == 'asc' and num < prev_num:\n",
    "                report_bad = True\n",
    "            elif report_order == 'desc' and num > prev_num:\n",
    "                report_bad = True\n",
    "        if report_bad:\n",
    "            reports_to_damp.append((report.strip().split(), n))\n",
    "            break\n",
    "        prev_num = num\n",
    "    if not report_bad:\n",
    "        good_reports += 1\n",
    "        \n"
   ]
  },
  {
   "cell_type": "code",
   "execution_count": 4,
   "metadata": {},
   "outputs": [
    {
     "data": {
      "text/plain": [
       "252"
      ]
     },
     "execution_count": 4,
     "metadata": {},
     "output_type": "execute_result"
    }
   ],
   "source": [
    "good_reports"
   ]
  },
  {
   "cell_type": "code",
   "execution_count": 5,
   "metadata": {},
   "outputs": [
    {
     "data": {
      "text/plain": [
       "748"
      ]
     },
     "execution_count": 5,
     "metadata": {},
     "output_type": "execute_result"
    }
   ],
   "source": [
    "len(reports_to_damp)"
   ]
  },
  {
   "cell_type": "code",
   "execution_count": 6,
   "metadata": {},
   "outputs": [
    {
     "data": {
      "text/plain": [
       "1000"
      ]
     },
     "execution_count": 6,
     "metadata": {},
     "output_type": "execute_result"
    }
   ],
   "source": [
    "len(reports)"
   ]
  },
  {
   "cell_type": "code",
   "execution_count": 7,
   "metadata": {},
   "outputs": [],
   "source": [
    "damped_good_reports = 0\n",
    "for report, bad_n in reports_to_damp:   \n",
    "    report_damped = False\n",
    "    damp_reports = [\n",
    "        report.copy() for z in range(len(report) + 1)\n",
    "    ]\n",
    "    for n in range(len(report)):\n",
    "        del damp_reports[n][n]\n",
    "    for dreport in damp_reports: \n",
    "        report_bad = False\n",
    "        report_order = None\n",
    "        for n, num in enumerate(dreport):\n",
    "            num = int(num)\n",
    "            if n == 0:\n",
    "                prev_num = num\n",
    "                continue\n",
    "            diff = abs(num - prev_num)\n",
    "            if diff == 0 or diff > 3:\n",
    "                report_bad = True\n",
    "            if prev_num == num:\n",
    "                report_bad = True\n",
    "            if not report_order:\n",
    "                if num > prev_num:\n",
    "                    report_order = 'asc'\n",
    "                elif num < prev_num:\n",
    "                    report_order = 'desc'\n",
    "            else:\n",
    "                if report_order == 'asc' and num < prev_num:\n",
    "                    report_bad = True\n",
    "                elif report_order == 'desc' and num > prev_num:\n",
    "                    report_bad = True\n",
    "            if report_bad:\n",
    "                break\n",
    "            prev_num = num\n",
    "        if not report_bad:\n",
    "            damped_good_reports += 1\n",
    "            break\n"
   ]
  },
  {
   "cell_type": "code",
   "execution_count": 8,
   "metadata": {},
   "outputs": [
    {
     "data": {
      "text/plain": [
       "72"
      ]
     },
     "execution_count": 8,
     "metadata": {},
     "output_type": "execute_result"
    }
   ],
   "source": [
    "damped_good_reports"
   ]
  },
  {
   "cell_type": "code",
   "execution_count": 9,
   "metadata": {},
   "outputs": [
    {
     "data": {
      "text/plain": [
       "324"
      ]
     },
     "execution_count": 9,
     "metadata": {},
     "output_type": "execute_result"
    }
   ],
   "source": [
    "damped_good_reports + good_reports"
   ]
  },
  {
   "cell_type": "code",
   "execution_count": null,
   "metadata": {},
   "outputs": [],
   "source": []
  }
 ],
 "metadata": {
  "kernelspec": {
   "display_name": "Python 3",
   "language": "python",
   "name": "python3"
  },
  "language_info": {
   "codemirror_mode": {
    "name": "ipython",
    "version": 3
   },
   "file_extension": ".py",
   "mimetype": "text/x-python",
   "name": "python",
   "nbconvert_exporter": "python",
   "pygments_lexer": "ipython3",
   "version": "3.11.7"
  }
 },
 "nbformat": 4,
 "nbformat_minor": 2
}
