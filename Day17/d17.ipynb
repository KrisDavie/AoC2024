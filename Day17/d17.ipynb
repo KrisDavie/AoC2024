{
 "cells": [
  {
   "cell_type": "code",
   "execution_count": 1,
   "metadata": {},
   "outputs": [],
   "source": [
    "import math"
   ]
  },
  {
   "cell_type": "code",
   "execution_count": 2,
   "metadata": {},
   "outputs": [],
   "source": [
    "def get_op_val(op):\n",
    "    global AREG, BREG, CREG\n",
    "    if op < 4:\n",
    "        return op, 'lit'\n",
    "    elif op == 4:\n",
    "        return AREG, 'a'\n",
    "    elif op == 5:\n",
    "        return BREG, 'b'\n",
    "    elif op == 6:\n",
    "        return CREG, 'c'\n",
    "    else:\n",
    "        return False, 'HALT'\n"
   ]
  },
  {
   "cell_type": "code",
   "execution_count": 3,
   "metadata": {},
   "outputs": [],
   "source": [
    "def adv(op):\n",
    "    global AREG\n",
    "    op, optype = get_op_val(op)\n",
    "    if optype == 'HALT':\n",
    "        return False\n",
    "    AREG = int(AREG / math.pow(2, op))\n",
    "    return True\n",
    "\n",
    "def bxl(op):\n",
    "    global BREG\n",
    "    BREG = BREG ^ op\n",
    "    return True\n",
    "\n",
    "def bst(op):\n",
    "    global BREG\n",
    "    op, optype = get_op_val(op)\n",
    "    if optype == 'HALT':\n",
    "        return False\n",
    "    BREG = op % 8\n",
    "    return True\n",
    "\n",
    "def jnz(op):\n",
    "    global AREG, IPOINT\n",
    "    if AREG == 0:\n",
    "        return True\n",
    "    else:\n",
    "        IPOINT = op\n",
    "    return True\n",
    "\n",
    "def bxc(op):\n",
    "    global BREG, CREG\n",
    "    BREG = BREG ^ CREG\n",
    "    return True\n",
    "\n",
    "def out(op):\n",
    "    global BREG, OUTPUT\n",
    "    op, optype = get_op_val(op)\n",
    "    if optype == 'HALT':\n",
    "        return False\n",
    "    if len(OUTPUT) != 0:\n",
    "        OUTPUT += ','\n",
    "    OUTPUT += str(op % 8)\n",
    "    return True\n",
    "\n",
    "def bdv(op):\n",
    "    global AREG, BREG\n",
    "    op, optype = get_op_val(op)\n",
    "    if optype == 'HALT':\n",
    "        return False\n",
    "    BREG = int(AREG / math.pow(2, op))\n",
    "    return True\n",
    "\n",
    "def cdv(op):\n",
    "    global AREG, CREG\n",
    "    op, optype = get_op_val(op)\n",
    "    if optype == 'HALT':\n",
    "        return False\n",
    "    CREG = int(AREG / math.pow(2, op))\n",
    "    return True\n",
    "\n"
   ]
  },
  {
   "cell_type": "code",
   "execution_count": 4,
   "metadata": {},
   "outputs": [],
   "source": [
    "inst_dict = {\n",
    "    0: adv,\n",
    "    1: bxl,\n",
    "    2: bst,\n",
    "    3: jnz,\n",
    "    4: bxc,\n",
    "    5: out,\n",
    "    6: bdv,\n",
    "    7: cdv\n",
    "}"
   ]
  },
  {
   "cell_type": "code",
   "execution_count": 5,
   "metadata": {},
   "outputs": [],
   "source": [
    "AREG = 0\n",
    "BREG = 0\n",
    "CREG = 0\n",
    "IPOINT = 0\n",
    "OUTPUT = ''\n",
    "\n",
    "with open(\"input.txt\") as fh:\n",
    "# with open(\"test.txt\") as fh:\n",
    "# with open(\"test2.txt\") as fh:\n",
    "    for n, line in enumerate(fh):\n",
    "        line = line.strip()\n",
    "        if n == 0:\n",
    "            AREG = int(line.split(' ')[2])\n",
    "        elif n == 1:\n",
    "            BREG = int(line.split(' ')[2])\n",
    "        elif n == 2:\n",
    "            CREG = int(line.split(' ')[2])\n",
    "        elif n == 4:\n",
    "            program = [int(x) for x in line.split(' ')[1].split(',')]\n"
   ]
  },
  {
   "cell_type": "code",
   "execution_count": null,
   "metadata": {},
   "outputs": [],
   "source": [
    "# Part 2 test    \n",
    "\n",
    "AREG = 117440\n",
    "BREG = 0\n",
    "CREG = 0\n",
    "while True:\n",
    "    if IPOINT >= len(program):\n",
    "        break\n",
    "    inst = program[IPOINT]\n",
    "    op = program[IPOINT+1]\n",
    "    # print(inst, op), IPOINT\n",
    "    IPOINT += 2\n",
    "    if not inst_dict[inst](op):\n",
    "        break\n",
    "    print(AREG, BREG, CREG, OUTPUT)\n"
   ]
  },
  {
   "cell_type": "code",
   "execution_count": 6,
   "metadata": {},
   "outputs": [],
   "source": [
    "prog_str = ','.join([str(x) for x in program])"
   ]
  },
  {
   "cell_type": "code",
   "execution_count": null,
   "metadata": {},
   "outputs": [
    {
     "name": "stdout",
     "output_type": "stream",
     "text": [
      "6\n",
      "49\n",
      "393\n",
      "3145\n",
      "25162\n",
      "201296\n",
      "1610370\n",
      "12883444\n",
      "103067559\n",
      "824540476\n",
      "6596323810\n",
      "52770590485\n",
      "422164723880\n",
      "3377317791096\n",
      "27018542328773\n",
      "216148338630253\n"
     ]
    }
   ],
   "source": [
    "next_poss = [x for x in range(0, 8)]\n",
    "for i in range(0, len(program) + 1):\n",
    "    poss = next_poss\n",
    "    next_poss = []\n",
    "    exp = prog_str[-((i * 2) + 1):]\n",
    "    for prev_a in poss:\n",
    "        for b in range(0, 8):\n",
    "            for c in range(0, 8):\n",
    "                IPOINT = 0\n",
    "                OUTPUT = ''\n",
    "                AREG = (8 * prev_a) + b\n",
    "                BREG = b\n",
    "                CREG = c\n",
    "                while True:\n",
    "                    if IPOINT >= len(program):\n",
    "                        break\n",
    "                    inst = program[IPOINT]\n",
    "                    op = program[IPOINT+1]\n",
    "                    IPOINT += 2\n",
    "                    if not inst_dict[inst](op):\n",
    "                        break\n",
    "                if OUTPUT == exp:\n",
    "                    next_poss.append((8 * prev_a) + b)\n",
    "                    break\n",
    "    if len(next_poss) > 0:\n",
    "        print(min(next_poss))"
   ]
  }
 ],
 "metadata": {
  "kernelspec": {
   "display_name": "Python 3",
   "language": "python",
   "name": "python3"
  },
  "language_info": {
   "codemirror_mode": {
    "name": "ipython",
    "version": 3
   },
   "file_extension": ".py",
   "mimetype": "text/x-python",
   "name": "python",
   "nbconvert_exporter": "python",
   "pygments_lexer": "ipython3",
   "version": "3.11.7"
  }
 },
 "nbformat": 4,
 "nbformat_minor": 2
}
