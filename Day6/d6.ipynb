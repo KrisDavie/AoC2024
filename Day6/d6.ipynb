{
 "cells": [
  {
   "cell_type": "code",
   "execution_count": 1,
   "metadata": {},
   "outputs": [],
   "source": [
    "with open(\"input.txt\") as fh:\n",
    "    data = [x.strip() for x in fh.readlines()]"
   ]
  },
  {
   "cell_type": "code",
   "execution_count": 2,
   "metadata": {},
   "outputs": [],
   "source": [
    "import numpy as np"
   ]
  },
  {
   "cell_type": "code",
   "execution_count": 3,
   "metadata": {},
   "outputs": [],
   "source": [
    "next_dirs = {\n",
    "    '>': 'V',\n",
    "    'V': '<',\n",
    "    '<': '^',\n",
    "    '^': '>'\n",
    "}\n",
    "\n",
    "arr = np.zeros((len(data), len(data[0])))\n",
    "\n",
    "def follow_path(x, y, dir):\n",
    "    nx = x\n",
    "    ny = y\n",
    "    if dir == '>':\n",
    "        nx = x + 1\n",
    "    elif dir == 'V':\n",
    "        ny = y + 1\n",
    "    elif dir == '<':\n",
    "        nx = x - 1\n",
    "    elif dir == '^':\n",
    "        ny = y - 1\n",
    "    if nx < 0 or ny < 0:\n",
    "        arr[y][x] = 1\n",
    "        return False\n",
    "    try:\n",
    "        next_object = data[ny][nx]\n",
    "    except IndexError:\n",
    "        arr[y][x] = 1\n",
    "        return False\n",
    "    \n",
    "    if next_object == '#':\n",
    "        return x, y, next_dirs[dir]\n",
    "    arr[y][x] = 1\n",
    "    return nx, ny, dir\n",
    "\n",
    "    \n",
    "for y, row in enumerate(data):\n",
    "    for x, pos in enumerate(row):\n",
    "        if pos in '^<V>':\n",
    "            nx = x\n",
    "            ny = y\n",
    "            npos = pos\n",
    "\n",
    "while True:\n",
    "    res = follow_path(nx, ny, npos)\n",
    "    if not res:\n",
    "        break\n",
    "    nx, ny, npos = res\n"
   ]
  },
  {
   "cell_type": "code",
   "execution_count": 4,
   "metadata": {},
   "outputs": [
    {
     "data": {
      "text/plain": [
       "4826.0"
      ]
     },
     "execution_count": 4,
     "metadata": {},
     "output_type": "execute_result"
    }
   ],
   "source": [
    "arr.sum()"
   ]
  },
  {
   "cell_type": "code",
   "execution_count": 5,
   "metadata": {},
   "outputs": [],
   "source": [
    "next_dirs = {\n",
    "    '>': 'V',\n",
    "    'V': '<',\n",
    "    '<': '^',\n",
    "    '^': '>'\n",
    "}\n",
    "\n",
    "def find_exit(data, nx, ny, npos):\n",
    "    arr = np.full((len(data), len(data[0])), 'O')\n",
    "    max_steps = (len(data[0]) * len(data[0])) + 1\n",
    "\n",
    "    def follow_path(x, y, dir):\n",
    "        nx = x\n",
    "        ny = y\n",
    "        if dir == '>':\n",
    "            nx = x + 1\n",
    "        elif dir == 'V':\n",
    "            ny = y + 1\n",
    "        elif dir == '<':\n",
    "            nx = x - 1\n",
    "        elif dir == '^':\n",
    "            ny = y - 1\n",
    "        if nx < 0 or ny < 0:\n",
    "            arr[y][x] = dir\n",
    "            return False\n",
    "        try:\n",
    "            next_object = data[ny][nx]\n",
    "        except IndexError:\n",
    "            arr[y][x] = dir\n",
    "            return False\n",
    "        \n",
    "        if next_object == '#':\n",
    "            return x, y, next_dirs[dir]\n",
    "        arr[y][x] = dir\n",
    "        return nx, ny, dir\n",
    "\n",
    "    # arr[ny][nx] = pos\n",
    "    steps = 0\n",
    "    while True:\n",
    "        res = follow_path(nx, ny, npos)\n",
    "        if not res:\n",
    "            return 'OUT'\n",
    "        if steps > max_steps:\n",
    "            return 'LOOP'\n",
    "        steps += 1\n",
    "        nx, ny, npos = res\n"
   ]
  },
  {
   "cell_type": "code",
   "execution_count": 6,
   "metadata": {},
   "outputs": [],
   "source": [
    "loops = 0\n",
    "\n",
    "for y, row in enumerate(data):\n",
    "    for x, pos in enumerate(row):\n",
    "        if pos in '^<V>':\n",
    "            sx = x\n",
    "            sy = y\n",
    "            spos = pos\n",
    "for y, row in enumerate(arr):\n",
    "    for x, pos in enumerate(row):\n",
    "        if pos == 'O':\n",
    "            continue\n",
    "        nx = x\n",
    "        ny = y\n",
    "        if dir == '>':\n",
    "            nx = x + 1\n",
    "        elif dir == 'V':\n",
    "            ny = y + 1\n",
    "        elif dir == '<':\n",
    "            nx = x - 1\n",
    "        elif dir == '^':\n",
    "            ny = y - 1\n",
    "        if nx < 0 or ny < 0:\n",
    "            arr[y][x] = dir\n",
    "            continue\n",
    "        try:\n",
    "            next_object = data[ny][nx]\n",
    "        except IndexError:\n",
    "            continue\n",
    "        mod_data = data.copy()\n",
    "        row = list(mod_data[ny])\n",
    "        row[nx] = '#'\n",
    "        mod_data[ny] = \"\".join(row)\n",
    "\n",
    "        res = find_exit(mod_data, sx, sy, spos)\n",
    "        if res == 'LOOP':\n",
    "            loops += 1\n",
    "\n",
    "        \n",
    "        "
   ]
  },
  {
   "cell_type": "code",
   "execution_count": 7,
   "metadata": {},
   "outputs": [
    {
     "data": {
      "text/plain": [
       "1721"
      ]
     },
     "execution_count": 7,
     "metadata": {},
     "output_type": "execute_result"
    }
   ],
   "source": [
    "loops"
   ]
  },
  {
   "cell_type": "code",
   "execution_count": null,
   "metadata": {},
   "outputs": [],
   "source": []
  }
 ],
 "metadata": {
  "kernelspec": {
   "display_name": "Python 3",
   "language": "python",
   "name": "python3"
  },
  "language_info": {
   "codemirror_mode": {
    "name": "ipython",
    "version": 3
   },
   "file_extension": ".py",
   "mimetype": "text/x-python",
   "name": "python",
   "nbconvert_exporter": "python",
   "pygments_lexer": "ipython3",
   "version": "3.11.7"
  }
 },
 "nbformat": 4,
 "nbformat_minor": 2
}
