{
 "cells": [
  {
   "cell_type": "code",
   "execution_count": 1,
   "metadata": {},
   "outputs": [],
   "source": [
    "import numpy as np\n",
    "from collections import defaultdict\n"
   ]
  },
  {
   "cell_type": "code",
   "execution_count": 2,
   "metadata": {},
   "outputs": [],
   "source": [
    "# with open(\"simple_test_input.txt\") as fh:\n",
    "# with open(\"test_input.txt\") as fh:\n",
    "with open(\"input.txt\") as fh:\n",
    "    data = [x.strip() for x in fh.readlines()]\n",
    "\n",
    "signals = defaultdict(list)\n",
    "\n",
    "for y, row in enumerate(data):\n",
    "    for x, pos in enumerate(row):\n",
    "        if pos == '.':\n",
    "            continue\n",
    "        signals[pos].append((x, y))\n",
    "\n",
    "resonant_arrays = {\n",
    "    signal: np.zeros((len(data), len(data[0]))) for signal in signals\n",
    "}"
   ]
  },
  {
   "cell_type": "code",
   "execution_count": 3,
   "metadata": {},
   "outputs": [],
   "source": [
    "def get_point_from_dist(pos1, pos2, dist):\n",
    "    x1, y1 = pos1\n",
    "    x2, y2 = pos2\n",
    "    return ((((1 - dist) * x1) + (dist * x2)), (((1 - dist) * y1) + (dist * y2)))"
   ]
  },
  {
   "cell_type": "code",
   "execution_count": 4,
   "metadata": {},
   "outputs": [],
   "source": [
    "for signal, ants in signals.items():\n",
    "    for ant1 in ants:\n",
    "        for ant2 in ants:\n",
    "            if ant1 == ant2:\n",
    "                continue\n",
    "            for dist in np.arange(1, len(data), 1):\n",
    "                p1 = get_point_from_dist(ant1, ant2, dist)\n",
    "                p2 = get_point_from_dist(ant2, ant1, dist)\n",
    "                for p in p1, p2:\n",
    "                    x, y = p\n",
    "                    if not x.is_integer() or not y.is_integer():\n",
    "                        continue\n",
    "                    if x < 0 or y < 0:\n",
    "                        continue\n",
    "                    try:\n",
    "                        resonant_arrays[signal][y][x] = 1\n",
    "                    except IndexError:\n",
    "                        continue"
   ]
  },
  {
   "cell_type": "code",
   "execution_count": 5,
   "metadata": {},
   "outputs": [],
   "source": [
    "tot_arr = np.zeros((len(data), len(data[0])))\n",
    "for _, arr in resonant_arrays.items():\n",
    "    tot_arr += arr\n",
    "tot_res_points = (tot_arr > 0).sum()"
   ]
  },
  {
   "cell_type": "code",
   "execution_count": 6,
   "metadata": {},
   "outputs": [
    {
     "data": {
      "text/plain": [
       "1182"
      ]
     },
     "execution_count": 6,
     "metadata": {},
     "output_type": "execute_result"
    }
   ],
   "source": [
    "tot_res_points"
   ]
  },
  {
   "cell_type": "code",
   "execution_count": null,
   "metadata": {},
   "outputs": [],
   "source": []
  }
 ],
 "metadata": {
  "kernelspec": {
   "display_name": "Python 3",
   "language": "python",
   "name": "python3"
  },
  "language_info": {
   "codemirror_mode": {
    "name": "ipython",
    "version": 3
   },
   "file_extension": ".py",
   "mimetype": "text/x-python",
   "name": "python",
   "nbconvert_exporter": "python",
   "pygments_lexer": "ipython3",
   "version": "3.11.7"
  }
 },
 "nbformat": 4,
 "nbformat_minor": 2
}
