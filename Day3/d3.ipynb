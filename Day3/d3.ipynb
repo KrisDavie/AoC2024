{
 "cells": [
  {
   "cell_type": "code",
   "execution_count": 1,
   "metadata": {},
   "outputs": [],
   "source": [
    "import re"
   ]
  },
  {
   "cell_type": "code",
   "execution_count": 2,
   "metadata": {},
   "outputs": [],
   "source": [
    "with open('input.txt') as f:\n",
    "    lines = f.readlines()"
   ]
  },
  {
   "cell_type": "code",
   "execution_count": 3,
   "metadata": {},
   "outputs": [],
   "source": [
    "tot = 0\n",
    "for line in lines:\n",
    "    matches = re.findall(r'mul\\([0-9]+,[0-9]+\\)', line)\n",
    "    for match in matches:\n",
    "        match = match.split(',')\n",
    "        i1 = int(match[0][4:])\n",
    "        i2 = int(match[1][:-1])\n",
    "        tot += (i1 * i2)"
   ]
  },
  {
   "cell_type": "code",
   "execution_count": 4,
   "metadata": {},
   "outputs": [
    {
     "data": {
      "text/plain": [
       "161085926"
      ]
     },
     "execution_count": 4,
     "metadata": {},
     "output_type": "execute_result"
    }
   ],
   "source": [
    "tot"
   ]
  },
  {
   "cell_type": "code",
   "execution_count": 5,
   "metadata": {},
   "outputs": [],
   "source": [
    "tot = 0\n",
    "mul = True\n",
    "for line in lines:\n",
    "    mul_matches = [x for x in re.finditer(r'(mul\\([0-9]+,[0-9]+\\))', line)]\n",
    "    do_matches = [x for x in re.finditer(r'(do\\(\\))', line)]\n",
    "    dont_matches = [x for x in re.finditer(r'(don\\'t\\(\\))', line)]\n",
    "    \n",
    "    final_state = max([a.start() for a in mul_matches + do_matches + dont_matches])\n",
    "    state_arr = ['x'] * (final_state + 1)\n",
    "\n",
    "    for state, match in {\n",
    "        'm': mul_matches,\n",
    "        'y': do_matches,\n",
    "        'n': dont_matches\n",
    "    }.items():\n",
    "        for n, m in enumerate(match):\n",
    "            if state == 'm':\n",
    "                state_arr[m.start()] = n\n",
    "            else:\n",
    "                state_arr[m.start()] = state\n",
    "    for n, s in enumerate(state_arr):\n",
    "        if s == 'x':\n",
    "            continue\n",
    "        elif s == 'n':\n",
    "            mul = False\n",
    "        elif s == 'y':\n",
    "            mul = True\n",
    "        elif mul:\n",
    "            m = mul_matches[s].group(0).split(',')\n",
    "            i1 = int(m[0][4:])\n",
    "            i2 = int(m[1][:-1])\n",
    "            tot += (i1 * i2)"
   ]
  },
  {
   "cell_type": "code",
   "execution_count": 6,
   "metadata": {},
   "outputs": [
    {
     "data": {
      "text/plain": [
       "82045421"
      ]
     },
     "execution_count": 6,
     "metadata": {},
     "output_type": "execute_result"
    }
   ],
   "source": [
    "tot"
   ]
  },
  {
   "cell_type": "code",
   "execution_count": null,
   "metadata": {},
   "outputs": [],
   "source": []
  }
 ],
 "metadata": {
  "kernelspec": {
   "display_name": "Python 3",
   "language": "python",
   "name": "python3"
  },
  "language_info": {
   "codemirror_mode": {
    "name": "ipython",
    "version": 3
   },
   "file_extension": ".py",
   "mimetype": "text/x-python",
   "name": "python",
   "nbconvert_exporter": "python",
   "pygments_lexer": "ipython3",
   "version": "3.11.7"
  }
 },
 "nbformat": 4,
 "nbformat_minor": 2
}
