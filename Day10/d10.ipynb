{
 "cells": [
  {
   "cell_type": "code",
   "execution_count": 1,
   "metadata": {},
   "outputs": [],
   "source": [
    "class Node():\n",
    "    def __init__(self, pos, height):\n",
    "        self.pos = pos\n",
    "        self.height = height\n",
    "        self.neighbours = set()\n",
    "        visited = False\n",
    "\n",
    "    def __repr__(self):\n",
    "        return f'Node at pos {self.pos}'\n",
    "\n",
    "    def add_neighbour(self, n):\n",
    "        self.neighbours.add(n)\n"
   ]
  },
  {
   "cell_type": "code",
   "execution_count": 2,
   "metadata": {},
   "outputs": [],
   "source": [
    "# with open(\"simple_test.txt\") as fh:\n",
    "# with open(\"4test_input.txt\") as fh:\n",
    "# with open(\"test_input.txt\") as fh:\n",
    "with open(\"input.txt\") as fh:\n",
    "    raw_data = [x.strip() for x in fh.readlines()]"
   ]
  },
  {
   "cell_type": "code",
   "execution_count": 3,
   "metadata": {},
   "outputs": [],
   "source": [
    "data = []\n",
    "for y, row in enumerate(raw_data):\n",
    "    newcol = []\n",
    "    for x, col in enumerate(row):\n",
    "        newcol.append(Node((x, y), int(col)))\n",
    "    data.append(newcol)\n"
   ]
  },
  {
   "cell_type": "code",
   "execution_count": 4,
   "metadata": {},
   "outputs": [],
   "source": [
    "for y, row in enumerate(data):\n",
    "    for x, col in enumerate(row):\n",
    "        for pos in [-1, 1]:\n",
    "            try:\n",
    "                if not x + pos < 0:\n",
    "                    col.add_neighbour(data[y][x + pos])\n",
    "            except IndexError:\n",
    "                pass\n",
    "            try:\n",
    "                if not y + pos < 0:\n",
    "                    col.add_neighbour(data[y + pos][x])\n",
    "            except IndexError:\n",
    "                pass\n"
   ]
  },
  {
   "cell_type": "code",
   "execution_count": 5,
   "metadata": {},
   "outputs": [
    {
     "name": "stdout",
     "output_type": "stream",
     "text": [
      "611\n",
      "1380\n"
     ]
    }
   ],
   "source": [
    "from collections import deque\n",
    "\n",
    "def find_paths(root):\n",
    "    queue = deque()\n",
    "    seen = set()\n",
    "    seen.add(root)\n",
    "    queue.append((root, [root], -1))\n",
    "    valid_paths = []\n",
    "    searched_paths = set()\n",
    "\n",
    "    while len(queue) > 0:\n",
    "        node, path, prevheight = queue.popleft()\n",
    "        if prevheight + 1 == node.height:\n",
    "            if node.height == 9:\n",
    "                path.append(node)\n",
    "                valid_paths.append(path)\n",
    "            for n in node.neighbours:\n",
    "                if n not in path:\n",
    "                    new_path = path[:]\n",
    "                    new_path.append(n)\n",
    "                    queue.append((n, new_path, node.height))\n",
    "            searched_paths.add(tuple(path))\n",
    "\n",
    "\n",
    "    return valid_paths\n",
    "\n",
    "roots = []\n",
    "for y, row in enumerate(data):\n",
    "    for x, col in enumerate(row):\n",
    "        if col.height == 0:\n",
    "            roots.append(col)\n",
    "\n",
    "all_paths = []\n",
    "for node in roots:\n",
    "    root_paths = find_paths(node)\n",
    "    all_paths.append(root_paths)\n",
    "\n",
    "sum = 0\n",
    "distinct = 0\n",
    "for root_paths in all_paths:\n",
    "    root_termini = set()\n",
    "    for path in root_paths:\n",
    "        distinct += 1\n",
    "        root_termini.add(path[-1])\n",
    "    sum += len(root_termini)\n",
    "\n",
    "print(sum)\n",
    "print(distinct)\n",
    "    "
   ]
  }
 ],
 "metadata": {
  "kernelspec": {
   "display_name": "Python 3",
   "language": "python",
   "name": "python3"
  },
  "language_info": {
   "codemirror_mode": {
    "name": "ipython",
    "version": 3
   },
   "file_extension": ".py",
   "mimetype": "text/x-python",
   "name": "python",
   "nbconvert_exporter": "python",
   "pygments_lexer": "ipython3",
   "version": "3.11.7"
  }
 },
 "nbformat": 4,
 "nbformat_minor": 2
}
