{
 "cells": [
  {
   "cell_type": "code",
   "execution_count": 1,
   "metadata": {},
   "outputs": [],
   "source": [
    "import numpy as np"
   ]
  },
  {
   "cell_type": "code",
   "execution_count": 2,
   "metadata": {},
   "outputs": [],
   "source": [
    "class Node():\n",
    "    def __init__(self, pos, dist):\n",
    "        self.pos = pos\n",
    "        self.dist = dist\n",
    "        self.neighbours = {}\n",
    "\n",
    "    def __repr__(self):\n",
    "        return f'Node at pos {self.pos}'\n",
    "\n",
    "    def add_neighbour(self, n, dist):\n",
    "        edge = Edge(dist, self, n)\n",
    "        self.neighbours[n] = edge\n",
    "        n.neighbours[self] = edge\n",
    "\n",
    "class Edge():\n",
    "    def __init__(self, length, n1, n2):\n",
    "        self.n1 = n1\n",
    "        self.n2 = n2\n",
    "        self.length = length\n",
    "\n",
    "    def __repr__(self):\n",
    "        return f'{self.n1} -> {self.n2}: {self.length}'\n",
    "    \n",
    "dir_map = {\n",
    "    'N': (0, -1),\n",
    "    'S': (0, 1),\n",
    "    'W': (-1, 0),\n",
    "    'E': (1, 0)\n",
    "}"
   ]
  },
  {
   "cell_type": "code",
   "execution_count": 3,
   "metadata": {},
   "outputs": [],
   "source": [
    "# with open(\"test_input.txt\") as fh:\n",
    "with open(\"input.txt\") as fh:\n",
    "# with open(\"test2.txt\") as fh:\n",
    "    bits = [[int(y) for y in x.strip().split(',')] for x in fh.readlines()]\n",
    "    if len(bits) == 25:\n",
    "        grid = 6\n",
    "    else:\n",
    "        grid = 70\n",
    "    prearr = np.full((grid + 1, grid + 1), '.', dtype=str)"
   ]
  },
  {
   "cell_type": "code",
   "execution_count": 4,
   "metadata": {},
   "outputs": [],
   "source": [
    "def make_map(arr, bits, time):\n",
    "    bits = bits[:time]\n",
    "    for bit in bits:\n",
    "        x, y = bit\n",
    "        arr[y][x] = '#'\n",
    "    return arr\n"
   ]
  },
  {
   "cell_type": "code",
   "execution_count": 5,
   "metadata": {},
   "outputs": [],
   "source": [
    "from collections import deque"
   ]
  },
  {
   "cell_type": "code",
   "execution_count": 6,
   "metadata": {},
   "outputs": [],
   "source": [
    "def build_nodes(arr):\n",
    "    all_node_pos = {}\n",
    "    for y in range(arr.shape[0]):\n",
    "        for x in range(arr.shape[1]):\n",
    "            if arr[y][x] == '#':\n",
    "                continue\n",
    "            all_node_pos[(x, y)] = Node((x, y), np.inf)\n",
    "\n",
    "    for node_pos, node in all_node_pos.items():\n",
    "        for dir in ['N', 'S', 'W', 'E']:\n",
    "            tile = '.'\n",
    "            dist = 0\n",
    "            nx, ny = node_pos[0] + dir_map[dir][0], node_pos[1] + dir_map[dir][1]\n",
    "            if 0 > nx  or nx >= arr.shape[0] or 0 > ny or ny >= arr.shape[1]:\n",
    "                continue\n",
    "            tile = arr[ny][nx]\n",
    "            if tile == '#':\n",
    "                continue\n",
    "            else:\n",
    "                node.add_neighbour(all_node_pos[(nx, ny)], 1)\n",
    "    return all_node_pos"
   ]
  },
  {
   "cell_type": "code",
   "execution_count": 7,
   "metadata": {},
   "outputs": [],
   "source": [
    "def dijkstra(all_node_pos, start):\n",
    "    for node in all_node_pos.values():\n",
    "        node.dist = np.inf\n",
    "        node.last_dir = ' '\n",
    "        node.prev = set()\n",
    "\n",
    "    start = (0, 0)\n",
    "\n",
    "    node = all_node_pos[start]\n",
    "    node.dist = 0\n",
    "    queue = deque(all_node_pos.values())\n",
    "\n",
    "    while len(queue) > 0:\n",
    "        node = sorted(queue, key=lambda x: x.dist)[0]\n",
    "        queue.remove(node)\n",
    "        dist = node.dist\n",
    "        for neighbour, edge in node.neighbours.items():\n",
    "            score = dist + edge.length \n",
    "            if score < neighbour.dist:\n",
    "                neighbour.prev = set()\n",
    "                neighbour.prev.add(node)\n",
    "                neighbour.dist = score\n",
    "                node.prev.add(neighbour)\n",
    "            elif score == neighbour.dist:\n",
    "                neighbour.prev.add(node)\n",
    "    return all_node_pos\n",
    "    "
   ]
  },
  {
   "cell_type": "code",
   "execution_count": 8,
   "metadata": {},
   "outputs": [],
   "source": [
    "def check_pos(arr, i):\n",
    "    arr = make_map(prearr.copy(), bits, i)\n",
    "    all_node_pos = build_nodes(arr)\n",
    "    all_node_pos = dijkstra(all_node_pos, (0, 0))\n",
    "    return all_node_pos"
   ]
  },
  {
   "cell_type": "code",
   "execution_count": 9,
   "metadata": {},
   "outputs": [
    {
     "data": {
      "text/plain": [
       "408"
      ]
     },
     "execution_count": 9,
     "metadata": {},
     "output_type": "execute_result"
    }
   ],
   "source": [
    "all_node_pos = check_pos(prearr.copy(), 1024)\n",
    "all_node_pos[(grid, grid)].dist"
   ]
  },
  {
   "cell_type": "code",
   "execution_count": null,
   "metadata": {},
   "outputs": [
    {
     "name": "stdout",
     "output_type": "stream",
     "text": [
      "Found Cut Point: 2893\n"
     ]
    }
   ],
   "source": [
    "L, R = 0, len(bits)\n",
    "res = {}\n",
    "mid = (L + R) // 2\n",
    "prev_d = None\n",
    "while True:\n",
    "    i = mid\n",
    "    all_node_pos = check_pos(prearr.copy(), i)\n",
    "    if all_node_pos[(grid, grid)].dist == np.inf:\n",
    "        if i - 1 in res and res[i - 1][(grid, grid)].dist != np.inf:\n",
    "            print(f\"Found Cut Point: {i}\")\n",
    "            res[i] = all_node_pos\n",
    "            break\n",
    "        R = mid\n",
    "        mid = (L + R) // 2\n",
    "    else:\n",
    "        if i + 1 in res and res[i + 1][(grid, grid)].dist == np.inf:\n",
    "            print(f\"Found Cut Point: {i + 1}\")\n",
    "            res[i] = all_node_pos\n",
    "            break\n",
    "        L = mid\n",
    "        mid = (L + R) // 2\n",
    "    res[i] = all_node_pos"
   ]
  },
  {
   "cell_type": "code",
   "execution_count": 11,
   "metadata": {},
   "outputs": [
    {
     "data": {
      "text/plain": [
       "[45, 16]"
      ]
     },
     "execution_count": 11,
     "metadata": {},
     "output_type": "execute_result"
    }
   ],
   "source": [
    "bits[2892]"
   ]
  }
 ],
 "metadata": {
  "kernelspec": {
   "display_name": "Python 3",
   "language": "python",
   "name": "python3"
  },
  "language_info": {
   "codemirror_mode": {
    "name": "ipython",
    "version": 3
   },
   "file_extension": ".py",
   "mimetype": "text/x-python",
   "name": "python",
   "nbconvert_exporter": "python",
   "pygments_lexer": "ipython3",
   "version": "3.11.7"
  }
 },
 "nbformat": 4,
 "nbformat_minor": 2
}
