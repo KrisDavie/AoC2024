{
 "cells": [
  {
   "cell_type": "code",
   "execution_count": 1,
   "metadata": {},
   "outputs": [],
   "source": [
    "games = []\n",
    "# with open(\"simple_test.txt\") as fh:\n",
    "# with open(\"4test_input.txt\") as fh:\n",
    "# with open(\"etest.txt\") as fh:\n",
    "# with open(\"test_input.txt\") as fh:\n",
    "# with open(\"test_input2.txt\") as fh:\n",
    "with open(\"input.txt\") as fh:\n",
    "    game = {}\n",
    "    for line in fh:\n",
    "        line = line.strip()\n",
    "        if not line:\n",
    "            games.append(game)\n",
    "            game = {}\n",
    "            continue\n",
    "        if \"Button\" in line:\n",
    "            data = line.split(\" \")\n",
    "            button = data[1][:-1]\n",
    "            y = int(data[-1][1:])\n",
    "            x = int(data[-2][1:-1])\n",
    "            game[button] = (x, y)\n",
    "        else:\n",
    "            data = line.split(\" \")\n",
    "            y = int(data[-1][2:])\n",
    "            x = int(data[-2][2:-1])\n",
    "            game['prize'] = (x, y)\n",
    "    games.append(game)\n"
   ]
  },
  {
   "cell_type": "code",
   "execution_count": 2,
   "metadata": {},
   "outputs": [],
   "source": [
    "A_cost = 3\n",
    "B_cost = 1\n",
    "button_limit = 100"
   ]
  },
  {
   "cell_type": "code",
   "execution_count": 3,
   "metadata": {},
   "outputs": [],
   "source": [
    "totcost = 0\n",
    "for game in games:\n",
    "    for a in range(0, button_limit):\n",
    "        for b in range(0, button_limit):\n",
    "            xdist = (game['A'][0] * a) + (game['B'][0] * b)\n",
    "            ydist = (game['A'][1] * a) + (game['B'][1] * b)\n",
    "            if xdist == game['prize'][0] and ydist == game['prize'][1]:\n",
    "                totcost += a * A_cost + b * B_cost\n",
    "                break\n"
   ]
  },
  {
   "cell_type": "code",
   "execution_count": 4,
   "metadata": {},
   "outputs": [
    {
     "data": {
      "text/plain": [
       "35255"
      ]
     },
     "execution_count": 4,
     "metadata": {},
     "output_type": "execute_result"
    }
   ],
   "source": [
    "totcost"
   ]
  },
  {
   "cell_type": "code",
   "execution_count": 5,
   "metadata": {
    "vscode": {
     "languageId": "ruby"
    }
   },
   "outputs": [],
   "source": [
    "for game in games:\n",
    "    game['prize'] = (game['prize'][0] + 10000000000000, game['prize'][1] + 10000000000000)"
   ]
  },
  {
   "cell_type": "code",
   "execution_count": 6,
   "metadata": {
    "vscode": {
     "languageId": "ruby"
    }
   },
   "outputs": [
    {
     "name": "stdout",
     "output_type": "stream",
     "text": [
      "87582154060429\n"
     ]
    }
   ],
   "source": [
    "totcost = 0\n",
    "button_limit = 1000\n",
    "for game in games:\n",
    "    b1 = game['B'][0] * game['A'][1]\n",
    "    b2 = game['B'][1] * game['A'][0]\n",
    "    bd = b2 - b1\n",
    "    r_1 = game['prize'][0] * game['A'][1]\n",
    "    r_2 = game['prize'][1] * game['A'][0]\n",
    "    fres = (r_2 - r_1)\n",
    "    b = fres / bd\n",
    "    res_diff = game['prize'][0] - b * game['B'][0]\n",
    "    a = res_diff / game['A'][0]\n",
    "\n",
    "    if b % 1 != 0:\n",
    "        # print(\"no solution\")\n",
    "        continue\n",
    "    if a % 1 != 0:\n",
    "        # print(\"no solution\")\n",
    "        continue\n",
    "    # print(a, b)\n",
    "    totcost += a * A_cost + b * B_cost\n",
    "print(int(totcost))"
   ]
  },
  {
   "cell_type": "code",
   "execution_count": null,
   "metadata": {
    "vscode": {
     "languageId": "ruby"
    }
   },
   "outputs": [],
   "source": []
  }
 ],
 "metadata": {
  "kernelspec": {
   "display_name": "Python 3",
   "language": "python",
   "name": "python3"
  },
  "language_info": {
   "codemirror_mode": {
    "name": "ipython",
    "version": 3
   },
   "file_extension": ".py",
   "mimetype": "text/x-python",
   "name": "python",
   "nbconvert_exporter": "python",
   "pygments_lexer": "ipython3",
   "version": "3.11.7"
  }
 },
 "nbformat": 4,
 "nbformat_minor": 2
}
