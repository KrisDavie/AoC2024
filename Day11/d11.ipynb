{
 "cells": [
  {
   "cell_type": "code",
   "execution_count": 1,
   "metadata": {},
   "outputs": [],
   "source": [
    "# with open(\"simple_test.txt\") as fh:\n",
    "# with open(\"test_input.txt\") as fh:\n",
    "with open(\"input.txt\") as fh:\n",
    "    data = [x.strip() for x in fh.readlines()][0]"
   ]
  },
  {
   "cell_type": "code",
   "execution_count": 2,
   "metadata": {},
   "outputs": [],
   "source": [
    "data = [int(x) for x in data.split(' ')]"
   ]
  },
  {
   "cell_type": "code",
   "execution_count": 3,
   "metadata": {},
   "outputs": [],
   "source": [
    "lookup = {}\n",
    "p1 =  data[:]\n",
    "def blink(stones):\n",
    "    all_new_stones = []\n",
    "    for stone in stones:\n",
    "        if stone in lookup:\n",
    "            all_new_stones += lookup[stone]\n",
    "            continue\n",
    "        new_stones = []\n",
    "        str_stone = str(stone)\n",
    "        if stone == 0:\n",
    "            new_stones.append(1)\n",
    "        elif len(str_stone) % 2 == 0:\n",
    "            new_stones.append(int(str_stone[:len(str_stone)//2]))\n",
    "            new_stones.append(int(str_stone[len(str_stone)//2:]))\n",
    "        else:\n",
    "            new_stones.append(stone * 2024)\n",
    "        lookup[stone] = new_stones\n",
    "        all_new_stones += new_stones\n",
    "\n",
    "    return all_new_stones\n",
    "\n",
    "for i in range(25):\n",
    "    p1 = blink(p1[:])\n"
   ]
  },
  {
   "cell_type": "code",
   "execution_count": 4,
   "metadata": {},
   "outputs": [
    {
     "name": "stdout",
     "output_type": "stream",
     "text": [
      "209412\n"
     ]
    }
   ],
   "source": [
    "print(len(p1))"
   ]
  },
  {
   "cell_type": "code",
   "execution_count": 5,
   "metadata": {},
   "outputs": [],
   "source": [
    "from collections import defaultdict"
   ]
  },
  {
   "cell_type": "code",
   "execution_count": 6,
   "metadata": {},
   "outputs": [
    {
     "name": "stdout",
     "output_type": "stream",
     "text": [
      "248967696501656\n"
     ]
    }
   ],
   "source": [
    "lookup = defaultdict(lambda: defaultdict(lambda: 0))\n",
    "# Number, cycles, count\n",
    "\n",
    "def blink_stone(stone, cycle):  \n",
    "    stone_tot = 0\n",
    "    if cycle == 0:\n",
    "        return 1\n",
    "    if lookup[stone][cycle] != 0:\n",
    "        return lookup[stone][cycle]\n",
    "    \n",
    "    str_stone = str(stone)\n",
    "    new_stones = []\n",
    "    cycle_tot = 0\n",
    "\n",
    "    if stone == 0:\n",
    "        new_stones.append(1)\n",
    "    elif len(str_stone) % 2 == 0:\n",
    "        new_stones.append(int(str_stone[:len(str_stone)//2]))\n",
    "        new_stones.append(int(str_stone[len(str_stone)//2:]))\n",
    "    else:\n",
    "        new_stones.append(stone * 2024)\n",
    "    for nstone in new_stones:\n",
    "        cycle_tot += blink_stone(nstone, cycle - 1)\n",
    "    stone_tot += cycle_tot\n",
    "    lookup[stone][cycle] = stone_tot\n",
    "    return lookup[stone][cycle]\n",
    "\n",
    "final_tot = 0\n",
    "for stone in data:\n",
    "    final_tot += blink_stone(stone, 75)\n",
    "print(final_tot)"
   ]
  },
  {
   "cell_type": "code",
   "execution_count": null,
   "metadata": {},
   "outputs": [],
   "source": []
  }
 ],
 "metadata": {
  "kernelspec": {
   "display_name": "Python 3",
   "language": "python",
   "name": "python3"
  },
  "language_info": {
   "codemirror_mode": {
    "name": "ipython",
    "version": 3
   },
   "file_extension": ".py",
   "mimetype": "text/x-python",
   "name": "python",
   "nbconvert_exporter": "python",
   "pygments_lexer": "ipython3",
   "version": "3.11.7"
  }
 },
 "nbformat": 4,
 "nbformat_minor": 2
}
