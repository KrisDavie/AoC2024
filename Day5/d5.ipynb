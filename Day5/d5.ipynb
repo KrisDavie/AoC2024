{
 "cells": [
  {
   "cell_type": "code",
   "execution_count": 1,
   "metadata": {},
   "outputs": [],
   "source": [
    "rules: tuple[str] = []\n",
    "updates: list[int] = []\n",
    "with open('input.txt') as fh:\n",
    "    for line in fh.readlines():\n",
    "        line = line.strip()\n",
    "        if '|' in line:\n",
    "            rules.append(tuple(line.split('|')))\n",
    "        elif not line:\n",
    "            continue\n",
    "        else:\n",
    "            updates.append(line.split(','))"
   ]
  },
  {
   "cell_type": "code",
   "execution_count": 2,
   "metadata": {},
   "outputs": [],
   "source": [
    "import collections as c\n",
    "from functools import cmp_to_key"
   ]
  },
  {
   "cell_type": "code",
   "execution_count": 3,
   "metadata": {},
   "outputs": [],
   "source": [
    "rules_before = c.defaultdict(set)\n",
    "rules_after = c.defaultdict(set)\n",
    "\n",
    "for before, after in rules:\n",
    "    rules_before[after].add(before)\n",
    "    rules_after[before].add(after)"
   ]
  },
  {
   "cell_type": "code",
   "execution_count": 4,
   "metadata": {},
   "outputs": [],
   "source": [
    "def custom_sort(a:str, b:str):\n",
    "    if b in rules_before[a]:\n",
    "        return 1\n",
    "    if b in rules_after[a]:\n",
    "        return -1\n",
    "    return 0"
   ]
  },
  {
   "cell_type": "code",
   "execution_count": 5,
   "metadata": {},
   "outputs": [],
   "source": [
    "full_rules_set = set()\n",
    "for a, b in rules:\n",
    "    full_rules_set.add(a)\n",
    "    full_rules_set.add(b)"
   ]
  },
  {
   "cell_type": "code",
   "execution_count": 6,
   "metadata": {},
   "outputs": [],
   "source": [
    "update_statuses = []\n",
    "middles = []\n",
    "for update in updates:\n",
    "    middles.append(int(update[len(update) // 2]))\n",
    "    if sorted(update, key=cmp_to_key(custom_sort)) == update:\n",
    "        update_statuses.append(True)\n",
    "    else:\n",
    "        update_statuses.append(False)\n"
   ]
  },
  {
   "cell_type": "code",
   "execution_count": 7,
   "metadata": {},
   "outputs": [],
   "source": [
    "final_tot = 0\n",
    "for status, num in zip(update_statuses, middles):\n",
    "    if status:\n",
    "        final_tot += num"
   ]
  },
  {
   "cell_type": "code",
   "execution_count": 8,
   "metadata": {},
   "outputs": [
    {
     "data": {
      "text/plain": [
       "5762"
      ]
     },
     "execution_count": 8,
     "metadata": {},
     "output_type": "execute_result"
    }
   ],
   "source": [
    "final_tot"
   ]
  },
  {
   "cell_type": "code",
   "execution_count": 9,
   "metadata": {},
   "outputs": [],
   "source": [
    "final_tot = 0\n",
    "for status, update in zip(update_statuses, updates):\n",
    "    if not status:\n",
    "        new_order = sorted(update, key=cmp_to_key(custom_sort))\n",
    "        final_tot += int(new_order[len(new_order) // 2])"
   ]
  },
  {
   "cell_type": "code",
   "execution_count": 10,
   "metadata": {},
   "outputs": [
    {
     "data": {
      "text/plain": [
       "4130"
      ]
     },
     "execution_count": 10,
     "metadata": {},
     "output_type": "execute_result"
    }
   ],
   "source": [
    "final_tot"
   ]
  },
  {
   "cell_type": "code",
   "execution_count": null,
   "metadata": {},
   "outputs": [],
   "source": []
  }
 ],
 "metadata": {
  "kernelspec": {
   "display_name": "Python 3",
   "language": "python",
   "name": "python3"
  },
  "language_info": {
   "codemirror_mode": {
    "name": "ipython",
    "version": 3
   },
   "file_extension": ".py",
   "mimetype": "text/x-python",
   "name": "python",
   "nbconvert_exporter": "python",
   "pygments_lexer": "ipython3",
   "version": "3.11.7"
  }
 },
 "nbformat": 4,
 "nbformat_minor": 2
}
