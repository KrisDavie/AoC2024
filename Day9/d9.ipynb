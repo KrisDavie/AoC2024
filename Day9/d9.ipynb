{
 "cells": [
  {
   "cell_type": "code",
   "execution_count": 1,
   "metadata": {},
   "outputs": [],
   "source": [
    "# with open(\"simple_test.txt\") as fh:\n",
    "# with open(\"test_input.txt\") as fh:\n",
    "with open(\"input.txt\") as fh:\n",
    "    data = [x.strip() for x in fh.readlines()][0]"
   ]
  },
  {
   "cell_type": "code",
   "execution_count": 2,
   "metadata": {},
   "outputs": [],
   "source": [
    "file_map = {}\n",
    "disk_layout = []\n",
    "cur_id = 0\n",
    "for n, size in enumerate(data):\n",
    "    # Files\n",
    "    size = int(size)\n",
    "    byte = '.'\n",
    "    if n % 2 == 0:\n",
    "        file_map[str(cur_id)] = size\n",
    "        byte = str(cur_id)\n",
    "        cur_id += 1\n",
    "    for i in range(size):\n",
    "        disk_layout.append(byte)\n"
   ]
  },
  {
   "cell_type": "code",
   "execution_count": 3,
   "metadata": {},
   "outputs": [],
   "source": [
    "while '.' in disk_layout:\n",
    "    last = disk_layout.pop()\n",
    "    if last == '.':\n",
    "        continue\n",
    "    else:\n",
    "        disk_layout[disk_layout.index('.')] = last"
   ]
  },
  {
   "cell_type": "code",
   "execution_count": 4,
   "metadata": {},
   "outputs": [],
   "source": [
    "tot = 0\n",
    "for n, b_id in enumerate(disk_layout):\n",
    "    tot += n * int(b_id)"
   ]
  },
  {
   "cell_type": "code",
   "execution_count": 5,
   "metadata": {},
   "outputs": [
    {
     "name": "stdout",
     "output_type": "stream",
     "text": [
      "6367087064415\n"
     ]
    }
   ],
   "source": [
    "print(tot)"
   ]
  },
  {
   "cell_type": "code",
   "execution_count": 6,
   "metadata": {},
   "outputs": [],
   "source": [
    "def print_layout(disk_layout):\n",
    "    l = ''\n",
    "    for x, y in disk_layout:\n",
    "        l += x * y\n",
    "    print(l)"
   ]
  },
  {
   "cell_type": "code",
   "execution_count": 7,
   "metadata": {},
   "outputs": [],
   "source": [
    "file_map = {}\n",
    "disk_layout = []\n",
    "cur_id = 0\n",
    "for n, size in enumerate(data):\n",
    "    # Files\n",
    "    size = int(size)\n",
    "    byte = '.'\n",
    "    if n % 2 == 0:\n",
    "        file_map[str(cur_id)] = size\n",
    "        byte = str(cur_id)\n",
    "        cur_id += 1\n",
    "    disk_layout.append([byte, size])\n",
    "    "
   ]
  },
  {
   "cell_type": "code",
   "execution_count": 8,
   "metadata": {},
   "outputs": [],
   "source": [
    "seen_ids = set()\n",
    "# print_layout(disk_layout)\n",
    "\n",
    "while True:\n",
    "    while ['.', 0] in disk_layout:\n",
    "        disk_layout.remove(['.', 0])\n",
    "    dlsize = len(disk_layout)\n",
    "    for bn, (byte, size) in enumerate(disk_layout[::-1]):\n",
    "        changed = False\n",
    "        if byte == '.' or byte in seen_ids:\n",
    "            continue\n",
    "        seen_ids.add(byte)\n",
    "        for n, (fbyte, fsize) in enumerate(disk_layout[:]):\n",
    "            if fbyte != '.':\n",
    "                continue\n",
    "            old_space = dlsize - bn - 1\n",
    "            if n >= old_space:\n",
    "                break\n",
    "            if fsize >= size:\n",
    "                disk_layout[n][1] -= size\n",
    "                del(disk_layout[old_space])\n",
    "                disk_layout.insert(old_space, ['.', size])\n",
    "                disk_layout.insert(n, [byte, size])\n",
    "                changed = True\n",
    "                break\n",
    "        if byte == '0' or changed:\n",
    "            break\n",
    "    if byte == '0':\n",
    "        break\n"
   ]
  },
  {
   "cell_type": "code",
   "execution_count": 9,
   "metadata": {},
   "outputs": [],
   "source": [
    "expanded_layout = []\n",
    "for b_id, size in disk_layout:\n",
    "    for i in range(size):\n",
    "        expanded_layout.append(b_id)"
   ]
  },
  {
   "cell_type": "code",
   "execution_count": 10,
   "metadata": {},
   "outputs": [],
   "source": [
    "tot = 0\n",
    "for pos, b_id in enumerate(expanded_layout):\n",
    "    if b_id == '.':\n",
    "        continue\n",
    "    tot += int(b_id) * pos"
   ]
  },
  {
   "cell_type": "code",
   "execution_count": 11,
   "metadata": {},
   "outputs": [
    {
     "data": {
      "text/plain": [
       "6390781891880"
      ]
     },
     "execution_count": 11,
     "metadata": {},
     "output_type": "execute_result"
    }
   ],
   "source": [
    "tot"
   ]
  }
 ],
 "metadata": {
  "kernelspec": {
   "display_name": "Python 3",
   "language": "python",
   "name": "python3"
  },
  "language_info": {
   "codemirror_mode": {
    "name": "ipython",
    "version": 3
   },
   "file_extension": ".py",
   "mimetype": "text/x-python",
   "name": "python",
   "nbconvert_exporter": "python",
   "pygments_lexer": "ipython3",
   "version": "3.11.7"
  }
 },
 "nbformat": 4,
 "nbformat_minor": 2
}
