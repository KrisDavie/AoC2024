{
 "cells": [
  {
   "cell_type": "code",
   "execution_count": 1,
   "metadata": {},
   "outputs": [],
   "source": [
    "class Region():\n",
    "    def __init__(self, crop):\n",
    "        self.crop = crop\n",
    "        self.perimeter = 0\n",
    "        self.children = set()\n",
    "        self.edges = set()\n",
    "\n",
    "    def __repr__(self):\n",
    "        return f'Region ({self.crop}) of size {len(self.children)} with perimeter {self.perimeter} - score {len(self.children) * self.perimeter}'\n",
    "\n",
    "    def add_child(self, n):\n",
    "        self.children.add(n)"
   ]
  },
  {
   "cell_type": "code",
   "execution_count": 2,
   "metadata": {},
   "outputs": [],
   "source": [
    "# with open(\"simple_test.txt\") as fh:\n",
    "# with open(\"4test_input.txt\") as fh:\n",
    "# with open(\"etest.txt\") as fh:\n",
    "# with open(\"test_input.txt\") as fh:\n",
    "with open(\"input.txt\") as fh:\n",
    "    raw_data = [x.strip() for x in fh.readlines()]"
   ]
  },
  {
   "cell_type": "code",
   "execution_count": 3,
   "metadata": {},
   "outputs": [],
   "source": [
    "data = []\n",
    "for y, row in enumerate(raw_data):\n",
    "    newcol = []\n",
    "    for x, col in enumerate(row):\n",
    "        newcol.append(col)\n",
    "    data.append(newcol)"
   ]
  },
  {
   "cell_type": "code",
   "execution_count": 4,
   "metadata": {},
   "outputs": [],
   "source": [
    "from collections import deque, defaultdict"
   ]
  },
  {
   "cell_type": "code",
   "execution_count": 5,
   "metadata": {},
   "outputs": [],
   "source": [
    "segmented = set()\n",
    "cur_region = False\n",
    "regions = []\n",
    "\n",
    "def find_plot_members(root, region: Region):\n",
    "    queue = deque()\n",
    "    seen = defaultdict(set)\n",
    "    done = set()\n",
    "    x, y = root\n",
    "    queue.append((x, y))\n",
    "    while len(queue) > 0:\n",
    "        x, y = queue.popleft()\n",
    "        for xdir, ydir in [[-1, 0], [0, 1], [0, -1], [1, 0]]:\n",
    "            new_x = x + xdir\n",
    "            new_y = y + ydir\n",
    "            if new_x < 0 or new_x > len(data[0]) - 1 or new_y < 0 or new_y > len(data) - 1:\n",
    "                region.perimeter += 1\n",
    "                region.edges.add((new_x, new_y))\n",
    "                continue\n",
    "            new_crop = data[new_y][new_x]\n",
    "            if (x, y) in seen[(new_x, new_y)] or (new_x, new_y) in seen[(x, y)]:\n",
    "                 continue\n",
    "            seen[(new_x, new_y)].add((x, y))\n",
    "            seen[(x, y)].add((new_x, new_y))\n",
    "            if new_crop != data[y][x]:\n",
    "                region.perimeter += 1\n",
    "                region.edges.add((new_x, new_y))\n",
    "            else:\n",
    "                region.add_child((new_x, new_y))\n",
    "                segmented.add((new_x, new_y))\n",
    "                if (new_x, new_y) not in done:\n",
    "                    queue.append((new_x, new_y))\n",
    "                done.add((new_x, new_y))\n",
    "\n",
    "\n",
    "for y, row in enumerate(data):\n",
    "    for x, col in enumerate(row):\n",
    "        if (x, y) in segmented:\n",
    "            continue\n",
    "        segmented.add((x, y))\n",
    "        cur_region = Region(col)\n",
    "        cur_region.add_child((x, y))\n",
    "        find_plot_members((x, y), cur_region)\n",
    "        regions.append(cur_region)\n",
    "\n",
    "\n"
   ]
  },
  {
   "cell_type": "code",
   "execution_count": 6,
   "metadata": {},
   "outputs": [
    {
     "name": "stdout",
     "output_type": "stream",
     "text": [
      "1361494\n"
     ]
    }
   ],
   "source": [
    "res = 0\n",
    "for r in regions:\n",
    "    res += len(r.children) * r.perimeter\n",
    "print(res)"
   ]
  },
  {
   "cell_type": "code",
   "execution_count": 7,
   "metadata": {},
   "outputs": [
    {
     "name": "stdout",
     "output_type": "stream",
     "text": [
      "830516\n"
     ]
    }
   ],
   "source": [
    "def get_num_sides(region):\n",
    "    corners = 0\n",
    "    if len(region.children) <= 2:\n",
    "        return 4\n",
    "    for x, y in region.children:\n",
    "        children_connections = 0\n",
    "        for xdir, ydir in [[-1, 0], [0, 1], [0, -1], [1, 0]]:\n",
    "            if (x + xdir, y + ydir) in region.children:\n",
    "                children_connections += 1\n",
    "        if children_connections == 1:\n",
    "            corners += 2\n",
    "            continue\n",
    "        #  top left\n",
    "        if (((x - 1, y) in region.children and (x, y - 1) in region.children) and ((x - 1, y - 1) not in region.children)) or (\n",
    "            ((x - 1, y) not in region.children and (x, y - 1) not in region.children)\n",
    "        ):\n",
    "            corners += 1\n",
    "        #  top right\n",
    "        if (((x + 1, y) in region.children and (x, y - 1) in region.children) and ((x + 1, y - 1) not in region.children)) or (\n",
    "            ((x + 1, y) not in region.children and (x, y - 1) not in region.children)\n",
    "        ):\n",
    "            corners += 1\n",
    "        #  bottom left\n",
    "        if (((x - 1, y) in region.children and (x, y + 1) in region.children) and ((x - 1, y + 1) not in region.children)) or (\n",
    "            ((x - 1, y) not in region.children and (x, y + 1) not in region.children)\n",
    "        ):\n",
    "            corners += 1\n",
    "        #  bottom right\n",
    "        if (((x + 1, y) in region.children and (x, y + 1) in region.children) and ((x + 1, y + 1) not in region.children)) or (\n",
    "            ((x + 1, y) not in region.children and (x, y + 1) not in region.children)\n",
    "        ):\n",
    "            corners += 1\n",
    "    return corners\n",
    "\n",
    "tot = 0\n",
    "for r in regions:\n",
    "    num_sides = get_num_sides(r)\n",
    "    tot += len(r.children) * num_sides\n",
    "print(tot)"
   ]
  },
  {
   "cell_type": "code",
   "execution_count": null,
   "metadata": {},
   "outputs": [],
   "source": []
  }
 ],
 "metadata": {
  "kernelspec": {
   "display_name": "Python 3",
   "language": "python",
   "name": "python3"
  },
  "language_info": {
   "codemirror_mode": {
    "name": "ipython",
    "version": 3
   },
   "file_extension": ".py",
   "mimetype": "text/x-python",
   "name": "python",
   "nbconvert_exporter": "python",
   "pygments_lexer": "ipython3",
   "version": "3.11.7"
  }
 },
 "nbformat": 4,
 "nbformat_minor": 2
}
