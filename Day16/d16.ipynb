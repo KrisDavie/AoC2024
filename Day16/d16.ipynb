{
 "cells": [
  {
   "cell_type": "code",
   "execution_count": 1,
   "metadata": {},
   "outputs": [],
   "source": [
    "opp_dirs = {\n",
    "    'N': 'S',\n",
    "    'S': 'N',\n",
    "    'E': 'W',\n",
    "    'W': 'E'\n",
    "}"
   ]
  },
  {
   "cell_type": "code",
   "execution_count": 2,
   "metadata": {},
   "outputs": [],
   "source": [
    "from collections import deque"
   ]
  },
  {
   "cell_type": "code",
   "execution_count": 3,
   "metadata": {},
   "outputs": [],
   "source": [
    "def sort_nodes(a, b):\n",
    "    if a.dist > b.dist:\n",
    "        return a\n",
    "    if b.dist > a.dist:\n",
    "        return b\n",
    "    if a.pos[0] > b.pos[0]:\n",
    "        return a\n",
    "    if b.pos[0] > a.pos[0]:\n",
    "        return b\n",
    "    if a.pos[1] > b.pos[1]:\n",
    "        return a\n",
    "    if b.pos[1] > a.pos[1]:\n",
    "        return b"
   ]
  },
  {
   "cell_type": "code",
   "execution_count": 4,
   "metadata": {},
   "outputs": [],
   "source": [
    "class Node():\n",
    "    def __init__(self, pos, dist):\n",
    "        self.pos = pos\n",
    "        self.dist = dist\n",
    "        self.neighbours = {}\n",
    "        self.last_dir = ' '\n",
    "        self.shortest_neighbours = set()\n",
    "\n",
    "    def __repr__(self):\n",
    "        return f'Node at pos {self.pos}'\n",
    "\n",
    "    def add_neighbour(self, n, dist, dir):\n",
    "        edge = Edge(dist, self, n, dir)\n",
    "        self.neighbours[n] = edge\n",
    "        # edge = Edge(dist, self, n, opp_dirs[dir])\n",
    "        n.neighbours[self] = edge\n",
    "\n",
    "class Edge():\n",
    "    def __init__(self, length, n1, n2, dir):\n",
    "        self.n1 = n1\n",
    "        self.n2 = n2\n",
    "        self.length = length\n",
    "        self.dir = dir\n",
    "\n",
    "    def __repr__(self):\n",
    "        return f'{self.n1} -> {self.n2}: {self.length}'"
   ]
  },
  {
   "cell_type": "code",
   "execution_count": 5,
   "metadata": {},
   "outputs": [],
   "source": [
    "dir_map = {\n",
    "    'N': (0, -1),\n",
    "    'S': (0, 1),\n",
    "    'W': (-1, 0),\n",
    "    'E': (1, 0)\n",
    "}"
   ]
  },
  {
   "cell_type": "code",
   "execution_count": 6,
   "metadata": {},
   "outputs": [],
   "source": [
    "import numpy as np"
   ]
  },
  {
   "cell_type": "code",
   "execution_count": 7,
   "metadata": {},
   "outputs": [],
   "source": [
    "def dir_rot(a, b):\n",
    "    if a == b:\n",
    "        return 0\n",
    "    if opp_dirs[a] == b:\n",
    "        return 2\n",
    "    return 1"
   ]
  },
  {
   "cell_type": "code",
   "execution_count": 8,
   "metadata": {},
   "outputs": [],
   "source": [
    "grid = []\n",
    "# with open(\"test_input.txt\") as fh:\n",
    "with open(\"input.txt\") as fh:\n",
    "# with open(\"test2.txt\") as fh:\n",
    "    for y, line in enumerate(fh.readlines()):\n",
    "        row = []\n",
    "        for x, c in enumerate(line.strip()):\n",
    "            if c == 'S':\n",
    "                start = (x, y)\n",
    "                c = '.'\n",
    "            if c == 'E':\n",
    "                end = (x, y)\n",
    "                c = '.'\n",
    "            row.append(c)\n",
    "        grid.append(row)\n"
   ]
  },
  {
   "cell_type": "code",
   "execution_count": 9,
   "metadata": {},
   "outputs": [],
   "source": [
    "nodes: list[Node] = []\n",
    "for y, row in enumerate(grid):\n",
    "    for x, c in enumerate(row):\n",
    "        if c == '.':\n",
    "            v, h = 0, 0\n",
    "            for dir in ['N', 'S', 'W', 'E']:\n",
    "                nx, ny = x + dir_map[dir][0], y + dir_map[dir][1]\n",
    "                if 0 < nx < len(row) and 0 < ny < len(grid):\n",
    "                    if grid[ny][nx] == '.':\n",
    "                        if dir in ['N', 'S']:\n",
    "                            v += 1\n",
    "                        else:\n",
    "                            h += 1\n",
    "            if v > 0 and h > 0 or (v + h) == 1:\n",
    "                nodes.append(Node((x, y), np.inf))\n",
    "                        \n",
    "            \n",
    "all_node_pos = {node.pos: node for node in nodes}\n",
    "for node_pos, node in all_node_pos.items():\n",
    "    for dir in ['N', 'S', 'W', 'E']:\n",
    "        tile = '.'\n",
    "        dist = 0\n",
    "        nx, ny = node_pos\n",
    "        while tile == '.':\n",
    "            nx, ny = nx + dir_map[dir][0], ny + dir_map[dir][1]\n",
    "            if 0 > nx >= len(grid[0]) or 0 > ny >= len(grid):\n",
    "                break\n",
    "            tile = grid[ny][nx]\n",
    "            dist += 1\n",
    "            if tile == '#':\n",
    "                break\n",
    "            elif (nx, ny) in all_node_pos:\n",
    "                node.add_neighbour(all_node_pos[(nx, ny)], dist, dir)\n",
    "                break"
   ]
  },
  {
   "cell_type": "code",
   "execution_count": 10,
   "metadata": {},
   "outputs": [],
   "source": [
    "unvisited = all_node_pos.copy()\n",
    "# last_dir = 'E'\n",
    "for node in all_node_pos.values():\n",
    "    node.dist = np.inf\n",
    "    node.last_dir = ' '\n",
    "\n",
    "node = all_node_pos[start]\n",
    "node.dist = 0\n",
    "\n",
    "while True:\n",
    "    node = sorted(unvisited.values(), key=lambda x: x.dist)[0]\n",
    "    del(unvisited[node.pos])\n",
    "    dist = node.dist\n",
    "    # if node.pos == end:\n",
    "    #     break\n",
    "    for neighbour, edge in node.neighbours.items():\n",
    "        last_dir = node.last_dir if node.last_dir != ' ' else 'E'\n",
    "        score = dist + (edge.length + (dir_rot(last_dir, edge.dir) * 1000))\n",
    "        if score < neighbour.dist:\n",
    "            neighbour.dist = score\n",
    "            neighbour.last_dir = edge.dir\n",
    "    # end_nodes_left = [x for x in all_node_pos[end].neighbours if x.pos in unvisited]\n",
    "    if len(unvisited) == 0:\n",
    "        break"
   ]
  },
  {
   "cell_type": "code",
   "execution_count": 11,
   "metadata": {},
   "outputs": [],
   "source": [
    "unvisited = all_node_pos.copy()\n",
    "# last_dir = 'E'\n",
    "for node in all_node_pos.values():\n",
    "    node.dist = np.inf\n",
    "    node.last_dir = ' '\n",
    "    node.prev = set()\n",
    "\n",
    "node = all_node_pos[start]\n",
    "node.dist = 0\n",
    "queue = deque(all_node_pos.values())\n",
    "\n",
    "while len(queue) > 0:\n",
    "    node = sorted(queue, key=lambda x: x.dist)[0]\n",
    "    queue.remove(node)\n",
    "    dist = node.dist\n",
    "    for neighbour, edge in node.neighbours.items():\n",
    "        last_dir = node.last_dir if node.last_dir != ' ' else 'E'\n",
    "        score = dist + (edge.length + (dir_rot(last_dir, edge.dir) * 1000))\n",
    "        if score < neighbour.dist:\n",
    "            neighbour.prev = set()\n",
    "            neighbour.prev.add(node)\n",
    "            neighbour.dist = score\n",
    "            neighbour.last_dir = edge.dir\n",
    "            node.prev.add(neighbour)\n",
    "        elif score == neighbour.dist:\n",
    "            neighbour.prev.add(node)"
   ]
  },
  {
   "cell_type": "code",
   "execution_count": 12,
   "metadata": {},
   "outputs": [],
   "source": [
    "from PIL import Image, ImageDraw, ImageOps"
   ]
  },
  {
   "cell_type": "code",
   "execution_count": 13,
   "metadata": {},
   "outputs": [
    {
     "data": {
      "image/png": "[encoded data removed]",
      "text/plain": [
       "<PIL.Image.Image image mode=RGB size=705x705>"
      ]
     },
     "metadata": {},
     "output_type": "display_data"
    },
    {
     "name": "stdout",
     "output_type": "stream",
     "text": [
      "526\n"
     ]
    }
   ],
   "source": [
    "end_node = all_node_pos[end]\n",
    "total_good_pos = 1\n",
    "last_dist = end_node.dist\n",
    "queue = [end_node]\n",
    "\n",
    "seen_edges = set()\n",
    "seen_nodes = set()\n",
    "seen_nodes.add(end_node)\n",
    "\n",
    "image = Image.new('RGB', (len(grid), len(grid[0])))\n",
    "draw = ImageDraw.Draw(image)\n",
    "\n",
    "edges_to_count = set()\n",
    "while len(queue) > 0:\n",
    "    node = sorted(queue, key=lambda x: x.dist)[0]\n",
    "    queue.remove(node)\n",
    "    for nnode, edge in node.neighbours.items():\n",
    "        if node == end_node:\n",
    "            shortest_neighbour = sorted(node.neighbours.keys(), key=lambda x: x.dist)[0]\n",
    "            if nnode != shortest_neighbour:\n",
    "                continue\n",
    "        if nnode.dist > node.dist:\n",
    "            continue\n",
    "        # print(nnode.dist, node.dist)\n",
    "        if edge not in seen_edges:\n",
    "            # Image draw line between nodes\n",
    "            draw.line([node.pos, nnode.pos], fill=(255, 255, 255), width=1)\n",
    "\n",
    "            queue.append(nnode)\n",
    "            seen_edges.add(edge)\n",
    "            edges_to_count.add(edge)\n",
    "            total_good_pos += edge.length if nnode not in seen_nodes else edge.length - 1\n",
    "            seen_nodes.add(nnode)\n",
    "\n",
    "            # print(f'{edge}: total {total_good_pos}')\n",
    "\n",
    "display(ImageOps.scale(image, 5, resample=0))\n",
    "\n",
    "print(total_good_pos)\n",
    "\n"
   ]
  },
  {
   "cell_type": "code",
   "execution_count": null,
   "metadata": {},
   "outputs": [],
   "source": [
    "# This number is wrong - there are two squares at the top that should not be counted. 520 is the correct answer by visual check."
   ]
  },
  {
   "cell_type": "code",
   "execution_count": null,
   "metadata": {},
   "outputs": [],
   "source": []
  }
 ],
 "metadata": {
  "kernelspec": {
   "display_name": "Python 3",
   "language": "python",
   "name": "python3"
  },
  "language_info": {
   "codemirror_mode": {
    "name": "ipython",
    "version": 3
   },
   "file_extension": ".py",
   "mimetype": "text/x-python",
   "name": "python",
   "nbconvert_exporter": "python",
   "pygments_lexer": "ipython3",
   "version": "3.11.7"
  }
 },
 "nbformat": 4,
 "nbformat_minor": 2
}
